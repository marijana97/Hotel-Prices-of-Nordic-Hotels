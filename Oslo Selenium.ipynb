{
 "cells": [
  {
   "cell_type": "code",
   "execution_count": 1,
   "id": "6cf0c04e",
   "metadata": {},
   "outputs": [],
   "source": [
    "from selenium import webdriver\n",
    "from selenium.webdriver.chrome.service import Service\n",
    "from selenium.webdriver.common.by import By\n",
    "from selenium.webdriver.support.ui import WebDriverWait\n",
    "from selenium.webdriver.support import expected_conditions as EC\n",
    "import time\n",
    "from bs4 import BeautifulSoup\n",
    "import requests\n",
    "import pandas as pd\n",
    "import datetime as dt"
   ]
  },
  {
   "cell_type": "code",
   "execution_count": 2,
   "id": "df589367",
   "metadata": {},
   "outputs": [],
   "source": [
    "url = 'https://www.scandichotels.com/'\n",
    "\n",
    "path = ('C:/Users/Marijana/Downloads/chromedriver.exe')\n",
    "s = Service(path)\n",
    "\n",
    "driver = webdriver.Chrome(service=s)\n",
    "\n",
    "driver.get(url)\n",
    "\n",
    "driver.maximize_window()\n",
    "\n",
    "agree = WebDriverWait(driver, 20).until(EC.element_to_be_clickable((By.XPATH, '//a[@id=\"CybotCookiebotDialogBodyLevelButtonLevelOptinAllowAll\"]')))\n",
    "\n",
    "try:\n",
    "    agree.click()\n",
    "except:\n",
    "    pass\n",
    "\n",
    "destination = driver.find_element(By.ID, 'widget-search__text')\n",
    "destination.click()\n",
    "destination.send_keys('Oslo')\n",
    "time.sleep(1)\n",
    "\n",
    "hotel = WebDriverWait(driver, 20).until(EC.element_to_be_clickable((By.XPATH, '//li[@class=\"widget-search__list-item\"]//span[text()=\"scandic vulkan\"]')))\n",
    "hotel.click()\n",
    "\n",
    "check_rates = driver.find_element(By.XPATH, '//button[@type=\"submit\"]//span[text()=\"See rooms and prices\"]')\n",
    "check_rates.click()\n",
    "time.sleep(3)\n",
    "\n",
    "current_url = driver.current_url  "
   ]
  },
  {
   "cell_type": "code",
   "execution_count": 3,
   "id": "4996757e",
   "metadata": {},
   "outputs": [],
   "source": [
    "response = requests.get(current_url)"
   ]
  },
  {
   "cell_type": "code",
   "execution_count": 4,
   "id": "e425bbdf",
   "metadata": {},
   "outputs": [
    {
     "data": {
      "text/plain": [
       "200"
      ]
     },
     "execution_count": 4,
     "metadata": {},
     "output_type": "execute_result"
    }
   ],
   "source": [
    "response.status_code"
   ]
  },
  {
   "cell_type": "code",
   "execution_count": 5,
   "id": "3bcfcc16",
   "metadata": {},
   "outputs": [],
   "source": [
    "soup = BeautifulSoup(response.content, 'html.parser')"
   ]
  },
  {
   "cell_type": "code",
   "execution_count": 6,
   "id": "02380503",
   "metadata": {},
   "outputs": [],
   "source": [
    "results = soup.find_all('div', {'data-ng-controller': 'BookingRoomsAndRatesLegController'})"
   ]
  },
  {
   "cell_type": "code",
   "execution_count": 7,
   "id": "9cded5ae",
   "metadata": {},
   "outputs": [
    {
     "data": {
      "text/plain": [
       "'Standard Single'"
      ]
     },
     "execution_count": 7,
     "metadata": {},
     "output_type": "execute_result"
    }
   ],
   "source": [
    "#Room type\n",
    "results[0].find('h2', {'class': 'room__heading-level1'}).get_text()"
   ]
  },
  {
   "cell_type": "code",
   "execution_count": 8,
   "id": "0bba3886",
   "metadata": {},
   "outputs": [
    {
     "data": {
      "text/plain": [
       "'Approx. 170 EUR'"
      ]
     },
     "execution_count": 8,
     "metadata": {},
     "output_type": "execute_result"
    }
   ],
   "source": [
    "#Rate\n",
    "results[0].find('p', {'class': 'room-price-info__local member_line_height_text'}).get_text().strip()"
   ]
  },
  {
   "cell_type": "code",
   "execution_count": 9,
   "id": "6613538d",
   "metadata": {},
   "outputs": [],
   "source": [
    "room_type = []\n",
    "rates = []\n",
    "\n",
    "for result in results:\n",
    "    \n",
    "    #Room type\n",
    "    try:\n",
    "        room_type.append(result.find('h2', {'class': 'room__heading-level1'}).get_text())\n",
    "    except:\n",
    "        room_type.append('')\n",
    "        \n",
    "    #Rates\n",
    "    try:\n",
    "        rates.append(result.find('p', {'class': 'room-price-info__local member_line_height_text'}).get_text().strip())\n",
    "    except:\n",
    "        rates.append('')"
   ]
  },
  {
   "cell_type": "code",
   "execution_count": 10,
   "id": "0eebdfb8",
   "metadata": {},
   "outputs": [],
   "source": [
    "df = pd.DataFrame(data=rates, index=room_type).T"
   ]
  },
  {
   "cell_type": "code",
   "execution_count": 11,
   "id": "419a83c2",
   "metadata": {},
   "outputs": [],
   "source": [
    "today  = dt.date.today().strftime(\"%d/%m/%Y\")\n",
    "df['Date'] = today"
   ]
  },
  {
   "cell_type": "code",
   "execution_count": 12,
   "id": "5bd8ef63",
   "metadata": {},
   "outputs": [],
   "source": [
    "#df.to_excel(dt.datetime.now().strftime(\"%d-%m-%Y\") + '.xlsx', index=False)"
   ]
  }
 ],
 "metadata": {
  "kernelspec": {
   "display_name": "Python 3 (ipykernel)",
   "language": "python",
   "name": "python3"
  },
  "language_info": {
   "codemirror_mode": {
    "name": "ipython",
    "version": 3
   },
   "file_extension": ".py",
   "mimetype": "text/x-python",
   "name": "python",
   "nbconvert_exporter": "python",
   "pygments_lexer": "ipython3",
   "version": "3.9.12"
  }
 },
 "nbformat": 4,
 "nbformat_minor": 5
}
